{
 "cells": [
  {
   "cell_type": "code",
   "execution_count": 1,
   "metadata": {
    "execution": {
     "iopub.execute_input": "2021-09-15T14:12:59.531174Z",
     "iopub.status.busy": "2021-09-15T14:12:59.529670Z",
     "iopub.status.idle": "2021-09-15T14:12:59.537076Z",
     "shell.execute_reply": "2021-09-15T14:12:59.536101Z"
    }
   },
   "outputs": [],
   "source": [
    "# This line is a comment because it starts with a pound sign (#). That                                                                                                                                         \n",
    "# means Python ignores it.  A comment is just for a human reading the                                                                                                                                          \n",
    "# code.  This project involves 20 small problems to give you practice                                                                                                                                          \n",
    "# with operators, types, and boolean logic.  We'll give you directions                                                                                                                                         \n",
    "# (as comments) on what to do for each problem.                                                                                                                                                                \n",
    "#                                                                                                                                                                                                              \n",
    "# Before you get started, please tell us who you are, putting your\n",
    "# Net ID and your partner's Net ID below (or none if your working solo)                                                                                                                                      \n",
    "\n",
    "# project: p2\n",
    "# submitter: NETID1\n",
    "# partner: NETID2\n",
    "# hours: ????"
   ]
  },
  {
   "cell_type": "code",
   "execution_count": 2,
   "metadata": {
    "execution": {
     "iopub.execute_input": "2021-09-15T14:12:59.566047Z",
     "iopub.status.busy": "2021-09-15T14:12:59.560036Z",
     "iopub.status.idle": "2021-09-15T14:12:59.573805Z",
     "shell.execute_reply": "2021-09-15T14:12:59.574875Z"
    }
   },
   "outputs": [
    {
     "data": {
      "text/plain": [
       "220"
      ]
     },
     "execution_count": 2,
     "metadata": {},
     "output_type": "execute_result"
    }
   ],
   "source": [
    "#q1: What is 11*20?\n",
    "\n",
    "# We did this one for you :)\n",
    "\n",
    "11*20"
   ]
  },
  {
   "cell_type": "code",
   "execution_count": 3,
   "metadata": {
    "execution": {
     "iopub.execute_input": "2021-09-15T14:12:59.584613Z",
     "iopub.status.busy": "2021-09-15T14:12:59.582662Z",
     "iopub.status.idle": "2021-09-15T14:12:59.591446Z",
     "shell.execute_reply": "2021-09-15T14:12:59.592595Z"
    }
   },
   "outputs": [
    {
     "data": {
      "text/plain": [
       "22"
      ]
     },
     "execution_count": 3,
     "metadata": {},
     "output_type": "execute_result"
    }
   ],
   "source": [
    "#q2: What is 2 + 20?\n",
    "\n",
    "# We expect your answer to be similar to the answer for q1 and not just the final value of the expression\n",
    "\n",
    "2 + 20"
   ]
  },
  {
   "cell_type": "code",
   "execution_count": 4,
   "metadata": {
    "execution": {
     "iopub.execute_input": "2021-09-15T14:12:59.602473Z",
     "iopub.status.busy": "2021-09-15T14:12:59.600515Z",
     "iopub.status.idle": "2021-09-15T14:12:59.609831Z",
     "shell.execute_reply": "2021-09-15T14:12:59.608332Z"
    }
   },
   "outputs": [
    {
     "data": {
      "text/plain": [
       "int"
      ]
     },
     "execution_count": 4,
     "metadata": {},
     "output_type": "execute_result"
    }
   ],
   "source": [
    "#q3: What is the type of 11*20?\n",
    "\n",
    "# We did this one for you too...\n",
    "\n",
    "type(11*20)"
   ]
  },
  {
   "cell_type": "code",
   "execution_count": 5,
   "metadata": {
    "execution": {
     "iopub.execute_input": "2021-09-15T14:12:59.618622Z",
     "iopub.status.busy": "2021-09-15T14:12:59.616670Z",
     "iopub.status.idle": "2021-09-15T14:12:59.626720Z",
     "shell.execute_reply": "2021-09-15T14:12:59.624769Z"
    }
   },
   "outputs": [
    {
     "data": {
      "text/plain": [
       "int"
      ]
     },
     "execution_count": 5,
     "metadata": {},
     "output_type": "execute_result"
    }
   ],
   "source": [
    "#q4: What is the type of 220//9?\n",
    "\n",
    "# We expect the answers for q4-q9 to be similar to the answer for q3 and not just the final type value\n",
    "\n",
    "type(220//9)"
   ]
  },
  {
   "cell_type": "code",
   "execution_count": 6,
   "metadata": {
    "execution": {
     "iopub.execute_input": "2021-09-15T14:12:59.635729Z",
     "iopub.status.busy": "2021-09-15T14:12:59.633847Z",
     "iopub.status.idle": "2021-09-15T14:12:59.640941Z",
     "shell.execute_reply": "2021-09-15T14:12:59.642865Z"
    }
   },
   "outputs": [
    {
     "data": {
      "text/plain": [
       "float"
      ]
     },
     "execution_count": 6,
     "metadata": {},
     "output_type": "execute_result"
    }
   ],
   "source": [
    "#q5: What is the type of 220.0?\n",
    "\n",
    "type(220.0)"
   ]
  },
  {
   "cell_type": "code",
   "execution_count": 7,
   "metadata": {
    "execution": {
     "iopub.execute_input": "2021-09-15T14:12:59.652624Z",
     "iopub.status.busy": "2021-09-15T14:12:59.650684Z",
     "iopub.status.idle": "2021-09-15T14:12:59.658524Z",
     "shell.execute_reply": "2021-09-15T14:12:59.659451Z"
    }
   },
   "outputs": [
    {
     "data": {
      "text/plain": [
       "str"
      ]
     },
     "execution_count": 7,
     "metadata": {},
     "output_type": "execute_result"
    }
   ],
   "source": [
    "#q6: What is the type of \"220\"?  Note the quotes!\n",
    "\n",
    "type(\"220\")"
   ]
  },
  {
   "cell_type": "code",
   "execution_count": 8,
   "metadata": {
    "execution": {
     "iopub.execute_input": "2021-09-15T14:12:59.668761Z",
     "iopub.status.busy": "2021-09-15T14:12:59.667781Z",
     "iopub.status.idle": "2021-09-15T14:12:59.676650Z",
     "shell.execute_reply": "2021-09-15T14:12:59.675592Z"
    }
   },
   "outputs": [
    {
     "data": {
      "text/plain": [
       "bool"
      ]
     },
     "execution_count": 8,
     "metadata": {},
     "output_type": "execute_result"
    }
   ],
   "source": [
    "#q7: What is the type of False?\n",
    "\n",
    "type(False)"
   ]
  },
  {
   "cell_type": "code",
   "execution_count": 9,
   "metadata": {
    "execution": {
     "iopub.execute_input": "2021-09-15T14:12:59.685673Z",
     "iopub.status.busy": "2021-09-15T14:12:59.683722Z",
     "iopub.status.idle": "2021-09-15T14:12:59.692572Z",
     "shell.execute_reply": "2021-09-15T14:12:59.691529Z"
    }
   },
   "outputs": [
    {
     "data": {
      "text/plain": [
       "str"
      ]
     },
     "execution_count": 9,
     "metadata": {},
     "output_type": "execute_result"
    }
   ],
   "source": [
    "#q8: What is the type of \"False\"?  Note the quotes!\n",
    "\n",
    "type(\"False\")"
   ]
  },
  {
   "cell_type": "code",
   "execution_count": 10,
   "metadata": {
    "execution": {
     "iopub.execute_input": "2021-09-15T14:12:59.702904Z",
     "iopub.status.busy": "2021-09-15T14:12:59.700953Z",
     "iopub.status.idle": "2021-09-15T14:12:59.711692Z",
     "shell.execute_reply": "2021-09-15T14:12:59.710902Z"
    }
   },
   "outputs": [
    {
     "data": {
      "text/plain": [
       "bool"
      ]
     },
     "execution_count": 10,
     "metadata": {},
     "output_type": "execute_result"
    }
   ],
   "source": [
    "#q9: What is the type of 220<320?\n",
    "\n",
    "type(220<320)"
   ]
  },
  {
   "cell_type": "code",
   "execution_count": 11,
   "metadata": {
    "execution": {
     "iopub.execute_input": "2021-09-15T14:12:59.721072Z",
     "iopub.status.busy": "2021-09-15T14:12:59.719583Z",
     "iopub.status.idle": "2021-09-15T14:12:59.727909Z",
     "shell.execute_reply": "2021-09-15T14:12:59.726931Z"
    }
   },
   "outputs": [
    {
     "data": {
      "text/plain": [
       "220"
      ]
     },
     "execution_count": 11,
     "metadata": {},
     "output_type": "execute_result"
    }
   ],
   "source": [
    "#q10: What is two hundred plus twenty?\n",
    "\n",
    "# Fix the below to make Python do an addition that produces 220\n",
    "\n",
    "# \"200\" + \"20\" adding strings does not add them but rather appends them together \n",
    "# The proper way is as follows\n",
    "200 + 20"
   ]
  },
  {
   "cell_type": "code",
   "execution_count": 12,
   "metadata": {
    "execution": {
     "iopub.execute_input": "2021-09-15T14:12:59.737663Z",
     "iopub.status.busy": "2021-09-15T14:12:59.735713Z",
     "iopub.status.idle": "2021-09-15T14:12:59.745511Z",
     "shell.execute_reply": "2021-09-15T14:12:59.744545Z"
    }
   },
   "outputs": [
    {
     "data": {
      "text/plain": [
       "':-(:-):-):-)'"
      ]
     },
     "execution_count": 12,
     "metadata": {},
     "output_type": "execute_result"
    }
   ],
   "source": [
    "#q11: Please fix the following to display 1 sad smiley and 3 happy smileys\n",
    "\n",
    "# \":-(\" * 3 + \":-)\" * 1\n",
    "\":-(\" * 1 + \":-)\" * 3"
   ]
  },
  {
   "cell_type": "code",
   "execution_count": 13,
   "metadata": {
    "execution": {
     "iopub.execute_input": "2021-09-15T14:12:59.755551Z",
     "iopub.status.busy": "2021-09-15T14:12:59.753599Z",
     "iopub.status.idle": "2021-09-15T14:12:59.762382Z",
     "shell.execute_reply": "2021-09-15T14:12:59.761407Z"
    }
   },
   "outputs": [
    {
     "data": {
      "text/plain": [
       "220"
      ]
     },
     "execution_count": 13,
     "metadata": {},
     "output_type": "execute_result"
    }
   ],
   "source": [
    "#q12: Please fix the following to get 220\n",
    "\n",
    "#\"44\" * 5, appends the string to itself 5 times\n",
    "44*5"
   ]
  },
  {
   "cell_type": "code",
   "execution_count": 14,
   "metadata": {
    "execution": {
     "iopub.execute_input": "2021-09-15T14:12:59.772703Z",
     "iopub.status.busy": "2021-09-15T14:12:59.770750Z",
     "iopub.status.idle": "2021-09-15T14:12:59.780165Z",
     "shell.execute_reply": "2021-09-15T14:12:59.778564Z"
    }
   },
   "outputs": [
    {
     "data": {
      "text/plain": [
       "49"
      ]
     },
     "execution_count": 14,
     "metadata": {},
     "output_type": "execute_result"
    }
   ],
   "source": [
    "#q13: What is the area of a square with side length of 7?\n",
    "\n",
    "# Oops, it is currently computing the volume of a cube (please fix)\n",
    "\n",
    "# 7 ** 3, 7^3 is a cube, 7 ** 2 is a square\n",
    "7 ** 2"
   ]
  },
  {
   "cell_type": "code",
   "execution_count": 15,
   "metadata": {
    "execution": {
     "iopub.execute_input": "2021-09-15T14:12:59.789907Z",
     "iopub.status.busy": "2021-09-15T14:12:59.787954Z",
     "iopub.status.idle": "2021-09-15T14:12:59.797714Z",
     "shell.execute_reply": "2021-09-15T14:12:59.795800Z"
    }
   },
   "outputs": [
    {
     "data": {
      "text/plain": [
       "7040"
      ]
     },
     "execution_count": 15,
     "metadata": {},
     "output_type": "execute_result"
    }
   ],
   "source": [
    "#q14: You start with 220 dollars and double your money every decade.\n",
    "# How much will you have after 5 decades?\n",
    "\n",
    "# We expect the answer to be a mathematical expression, and not just the final value\n",
    "\n",
    "220*2**5"
   ]
  },
  {
   "cell_type": "code",
   "execution_count": 16,
   "metadata": {
    "execution": {
     "iopub.execute_input": "2021-09-15T14:12:59.807474Z",
     "iopub.status.busy": "2021-09-15T14:12:59.806499Z",
     "iopub.status.idle": "2021-09-15T14:12:59.814827Z",
     "shell.execute_reply": "2021-09-15T14:12:59.812875Z"
    }
   },
   "outputs": [
    {
     "data": {
      "text/plain": [
       "True"
      ]
     },
     "execution_count": 16,
     "metadata": {},
     "output_type": "execute_result"
    }
   ],
   "source": [
    "#q15: Fix the Python logic to match the English\n",
    "\n",
    "# In English: 220 is less than 320 and greater than 200\n",
    "\n",
    "# In Python:\n",
    "# 220 > 320 or 220 < 200, or logic means either comparison being correct returns true. \n",
    "# Here 220 is less than 320 *and* greater then 200, so and logic is required.\n",
    "\n",
    "220 < 320 and 220 > 200 "
   ]
  },
  {
   "cell_type": "code",
   "execution_count": 17,
   "metadata": {
    "execution": {
     "iopub.execute_input": "2021-09-15T14:12:59.825662Z",
     "iopub.status.busy": "2021-09-15T14:12:59.823748Z",
     "iopub.status.idle": "2021-09-15T14:12:59.833689Z",
     "shell.execute_reply": "2021-09-15T14:12:59.832707Z"
    }
   },
   "outputs": [
    {
     "data": {
      "text/plain": [
       "True"
      ]
     },
     "execution_count": 17,
     "metadata": {},
     "output_type": "execute_result"
    }
   ],
   "source": [
    "#q16: Change ONLY the value of x to get True for the output\n",
    "\n",
    "# Find a number between 220 and 320\n",
    "x = 225\n",
    "\n",
    "x > 220 and x < 320"
   ]
  },
  {
   "cell_type": "code",
   "execution_count": 18,
   "metadata": {
    "execution": {
     "iopub.execute_input": "2021-09-15T14:12:59.845451Z",
     "iopub.status.busy": "2021-09-15T14:12:59.843500Z",
     "iopub.status.idle": "2021-09-15T14:12:59.852384Z",
     "shell.execute_reply": "2021-09-15T14:12:59.853448Z"
    }
   },
   "outputs": [
    {
     "data": {
      "text/plain": [
       "True"
      ]
     },
     "execution_count": 18,
     "metadata": {},
     "output_type": "execute_result"
    }
   ],
   "source": [
    "#q17: Change ONLY the value of x to get True for the output\n",
    "\n",
    "x = 319.5\n",
    "\n",
    "(x >= 200 and x <= 320) and (x >= 319 and x <= 400)"
   ]
  },
  {
   "cell_type": "code",
   "execution_count": 19,
   "metadata": {
    "execution": {
     "iopub.execute_input": "2021-09-15T14:12:59.863743Z",
     "iopub.status.busy": "2021-09-15T14:12:59.862761Z",
     "iopub.status.idle": "2021-09-15T14:12:59.871852Z",
     "shell.execute_reply": "2021-09-15T14:12:59.873118Z"
    }
   },
   "outputs": [
    {
     "data": {
      "text/plain": [
       "True"
      ]
     },
     "execution_count": 19,
     "metadata": {},
     "output_type": "execute_result"
    }
   ],
   "source": [
    "#q18: Fix the following logic so that it checks whether x is \n",
    "# either -220 or 220.\n",
    "\n",
    "x = 220\n",
    "\n",
    "# The correct output should be True,\n",
    "# as x indeed equals to -220 or 220.\n",
    "# The problem here is that for \n",
    "# logical operators to work properly, \n",
    "# they require booleans on either\n",
    "# side\n",
    "\n",
    "x == -220 or x == 220"
   ]
  },
  {
   "cell_type": "code",
   "execution_count": 20,
   "metadata": {
    "execution": {
     "iopub.execute_input": "2021-09-15T14:12:59.884670Z",
     "iopub.status.busy": "2021-09-15T14:12:59.882766Z",
     "iopub.status.idle": "2021-09-15T14:12:59.891499Z",
     "shell.execute_reply": "2021-09-15T14:12:59.892476Z"
    }
   },
   "outputs": [
    {
     "data": {
      "text/plain": [
       "True"
      ]
     },
     "execution_count": 20,
     "metadata": {},
     "output_type": "execute_result"
    }
   ],
   "source": [
    "#q19: We should win!\n",
    "\n",
    "number = 319 \n",
    "\n",
    "# There are three winning numbers: 220, 319, and 320\n",
    "# The following should output True if number is changed\n",
    "# to be any of these, and it should output False otherwise\n",
    "# (but the logic is currently wrong).\n",
    "# Please update the following expression so we get True\n",
    "# if the number variable is changed to any of the winning\n",
    "# options.\n",
    "\n",
    "# Did we win?\n",
    "number == 220 or number == 319 or number == 320"
   ]
  },
  {
   "cell_type": "code",
   "execution_count": 21,
   "metadata": {
    "execution": {
     "iopub.execute_input": "2021-09-15T14:12:59.903424Z",
     "iopub.status.busy": "2021-09-15T14:12:59.901472Z",
     "iopub.status.idle": "2021-09-15T14:12:59.910866Z",
     "shell.execute_reply": "2021-09-15T14:12:59.910256Z"
    }
   },
   "outputs": [
    {
     "data": {
      "text/plain": [
       "113.04"
      ]
     },
     "execution_count": 21,
     "metadata": {},
     "output_type": "execute_result"
    }
   ],
   "source": [
    "#q20: What is the volume of a cylinder with radius 3 and height 4?\n",
    "# You may assume PI is 3.14 \n",
    "\n",
    "# We expect the answer to be a mathematical expression, and not just the final value\n",
    "r = 3\n",
    "h = 4\n",
    "pi = 3.14\n",
    "\n",
    "pi * r ** 2 * h"
   ]
  }
 ],
 "metadata": {
  "anaconda-cloud": {},
  "kernelspec": {
   "display_name": "Python 3",
   "language": "python",
   "name": "python3"
  },
  "language_info": {
   "codemirror_mode": {
    "name": "ipython",
    "version": 3
   },
   "file_extension": ".py",
   "mimetype": "text/x-python",
   "name": "python",
   "nbconvert_exporter": "python",
   "pygments_lexer": "ipython3",
   "version": "3.9.5"
  }
 },
 "nbformat": 4,
 "nbformat_minor": 4
}
